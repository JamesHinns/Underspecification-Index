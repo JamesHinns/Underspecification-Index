{
 "cells": [
  {
   "cell_type": "code",
   "execution_count": null,
   "id": "c7827616",
   "metadata": {},
   "outputs": [],
   "source": [
    "# --------------------------------------------------\n",
    "# Software_Realisation.ipynb\n",
    "#\n",
    "# Version 0.1\n",
    "#\n",
    "# Copyright (c) 2022 James Hinns\n",
    "# This code is licensed under MIT license \n",
    "# (see LICENSE for details)\n",
    "#\n",
    "# Code to support the completion of my MSc.\n",
    "#   Particularly supports the implementation\n",
    "#   chapters 7 and 8.\n",
    "#   Provides initial 'naive' implementations of \n",
    "#   the proposed underspecification index.\n",
    "#   Follows with optimised implementations of the \n",
    "#   index, showing the performacne increases.\n",
    "#\n",
    "# Created 16/02/22 - adapted from previous work \n",
    "#                    alongside Dr. Fan Xiuyi\n",
    "#\n",
    "# James Hinns, Fan Xiuyi\n",
    "# Swansea University\n",
    "#--------------------------------------------------"
   ]
  },
  {
   "cell_type": "markdown",
   "id": "b5629310",
   "metadata": {},
   "source": [
    "# Setup"
   ]
  },
  {
   "cell_type": "markdown",
   "id": "3ac8b6fb",
   "metadata": {},
   "source": [
    "## Imports"
   ]
  },
  {
   "cell_type": "code",
   "execution_count": 7,
   "id": "d888ceb5",
   "metadata": {
    "ExecuteTime": {
     "end_time": "2022-03-19T12:59:23.560608Z",
     "start_time": "2022-03-19T12:59:23.549619Z"
    }
   },
   "outputs": [],
   "source": [
    "import pandas as pd\n",
    "import numpy as np\n",
    "\n",
    "from sklearn.ensemble import RandomForestClassifier\n",
    "from sklearn.ensemble import RandomForestRegressor\n",
    "\n",
    "from sklearn.metrics import accuracy_score\n",
    "from sklearn.metrics import mean_squared_error\n",
    "\n",
    "from sklearn.model_selection import train_test_split\n",
    "\n",
    "from scipy.spatial.distance import cosine\n",
    "from scipy.stats.stats import pearsonr\n",
    "from scipy.stats import kendalltau\n",
    "\n",
    "import shap\n",
    "\n",
    "import os\n",
    "\n",
    "from numba import njit, prange, typed\n",
    "\n",
    "from numpy import dot\n",
    "from numpy.linalg import norm\n",
    "\n",
    "from timeit import default_timer as timer"
   ]
  },
  {
   "cell_type": "markdown",
   "id": "e50c6463",
   "metadata": {},
   "source": [
    "## Read in test dataset"
   ]
  },
  {
   "cell_type": "code",
   "execution_count": 8,
   "id": "2e2cf5f4",
   "metadata": {
    "ExecuteTime": {
     "end_time": "2022-03-19T12:59:25.715618Z",
     "start_time": "2022-03-19T12:59:25.693624Z"
    }
   },
   "outputs": [],
   "source": [
    "# Read in abalone dataset, split into train and test sets\n",
    "# split train and test sets into training features x and\n",
    "# prediction target y\n",
    "\n",
    "df = pd.read_csv(\"abalone.csv\")\n",
    "\n",
    "df[\"f1\"] = df[\"f1\"].astype('category').cat.codes\n",
    "\n",
    "# Create test 80% train 20% test sets\n",
    "train, test = train_test_split(df, test_size=0.2)\n",
    "\n",
    "x_trn = train.drop(columns=[\"label\"])\n",
    "y_trn = train['label']\n",
    "\n",
    "x_tst = test.drop(columns=[\"label\"])\n",
    "y_tst = test['label']"
   ]
  },
  {
   "cell_type": "markdown",
   "id": "405a076b",
   "metadata": {},
   "source": [
    "# Naïve implementation"
   ]
  },
  {
   "cell_type": "code",
   "execution_count": 9,
   "id": "25c3dba2",
   "metadata": {
    "ExecuteTime": {
     "end_time": "2022-03-19T12:59:28.510994Z",
     "start_time": "2022-03-19T12:59:28.501005Z"
    }
   },
   "outputs": [],
   "source": [
    "def gen_rashomon_naive(x_trn,y_trn,x_tst,y_tst,theta):\n",
    "    \"\"\"\n",
    "    Naive implementation to generate Rashomon set R(theta)\n",
    "    for the problem defined by the provided datasets\n",
    "    using random forests.\n",
    "\n",
    "            Parameters:\n",
    "                x_trn - np.ndarray (2d-array): \n",
    "                    The numerical training features\n",
    "                    used to train the predictors.\n",
    "                    Each index should be all features \n",
    "                    for a training instance.\n",
    "                y_trn - np.ndarray (2d-array):\n",
    "                    The numerical training prediction\n",
    "                    targets, each index should be the\n",
    "                    prediction target for the features\n",
    "                    at the same index of x_trn.\n",
    "                x_tst - np.ndarray (2d-array):\n",
    "                    Testing equivalent of x_trn.\n",
    "                y_tst - np.ndarray (2d-array):\n",
    "                    Testing equivalent of y_trn.\n",
    "\n",
    "            Returns:\n",
    "                rashomon - np.ndarray (1d-array):\n",
    "                    Array of sklearn Random Forest models.\n",
    "                    Length of MODEL_COUNT\n",
    "    \"\"\"\n",
    "    \n",
    "    \n",
    "    MODEL_COUNT = 100\n",
    "    TREE_COUNT  = 10\n",
    "\n",
    "    rashomon = np.empty(MODEL_COUNT, dtype=object)\n",
    "    i = 0\n",
    "    \n",
    "    while i < MODEL_COUNT:\n",
    "        \n",
    "        f = RandomForestClassifier(n_estimators=TREE_COUNT)\n",
    "        \n",
    "        f.fit(x_trn,y_trn)\n",
    "        \n",
    "        pred = f.predict(x_tst)\n",
    "        \n",
    "        acc = accuracy_score(pred, y_tst)\n",
    "        \n",
    "        if acc >= theta:\n",
    "            rashomon[i] = f\n",
    "            i += 1\n",
    "            \n",
    "    return rashomon"
   ]
  },
  {
   "cell_type": "code",
   "execution_count": 10,
   "id": "fbb4e4ef",
   "metadata": {
    "ExecuteTime": {
     "end_time": "2022-03-19T12:59:34.483247Z",
     "start_time": "2022-03-19T12:59:34.477271Z"
    }
   },
   "outputs": [],
   "source": [
    "# For each data instance x in x_tst, \n",
    "#    Compute shap explanations for each predictor f in rashomon\n",
    "def gen_exp_matrix_naive(x_tst,rashomon):\n",
    "    \"\"\"\n",
    "    Naive implementation to generate an explanation matrix\n",
    "    from a given Rashomon set and testing set.\n",
    "\n",
    "            Parameters:\n",
    "                x_tst - np.ndarray (2d-array):\n",
    "                    The numerical testing features\n",
    "                    used to generate the explanations.\n",
    "                    Each index should be all features \n",
    "                    for a test instance.\n",
    "                rashomon - np.ndarray (1d-array):\n",
    "                    Array of sklearn Random Forest models.\n",
    "\n",
    "            Returns:\n",
    "                shap_exps - np.ndarray (3d-array),\n",
    "                shape(x_tst length,model_count,# of features):\n",
    "                    Array of SHAP explanations for each test instance\n",
    "                    in x_tst, for each predictor in rashomon.\n",
    "    \"\"\"\n",
    "    \n",
    "    shap_exps = np.empty((len(x_tst)),dtype=object)\n",
    "    \n",
    "    for i, x in enumerate(x_tst):\n",
    "        \n",
    "        # An explation for each predictor, is a list of length equal to feature count\n",
    "        local_exp = np.empty((len(rashomon)),dtype=object)\n",
    "                         \n",
    "        k = len(rashomon)\n",
    "                             \n",
    "        for j, f in enumerate(rashomon):\n",
    "            \n",
    "            # Ise tree explainer to give fast exact SHAP calc\n",
    "            shap_val = np.array(shap.TreeExplainer(f).shap_values(x)[0])\n",
    "            local_exp[j] = shap_val\n",
    "            \n",
    "        shap_exps[i] = local_exp\n",
    "            \n",
    "    return shap_exps"
   ]
  },
  {
   "cell_type": "code",
   "execution_count": 11,
   "id": "8d26ec3e",
   "metadata": {
    "ExecuteTime": {
     "end_time": "2022-03-19T12:59:37.686262Z",
     "start_time": "2022-03-19T12:59:37.669270Z"
    }
   },
   "outputs": [],
   "source": [
    "def calc_local_underspec_index_naive(local_exps,metrics):\n",
    "    \"\"\"\n",
    "    Naive implementation to calculate the local underspecification\n",
    "    index using selected metrics, given all the explanations for \n",
    "    a particular data instance for all predictors in a rashomon set\n",
    "\n",
    "            Parameters:\n",
    "                local_exps - np.ndarray (2d-array):\n",
    "                    List of the local explanations for a given data \n",
    "                    instance of all predictors in a rashomon set.\n",
    "                metrics - list:\n",
    "                    List of metrics to be calculated.\n",
    "\n",
    "            Returns:\n",
    "                results - list:\n",
    "                    The underspecification indexes using all metrics in\n",
    "                    metrics.\n",
    "    \"\"\"\n",
    "    # Output array, index for each metrics local index\n",
    "    metric_n = len(metrics)\n",
    "    results  = np.zeros((metric_n))\n",
    "    \n",
    "    n = len(local_exps)\n",
    "    # Inner trianglular matrix coefficent for mean\n",
    "    coef = ( 2 / (n*(n-1)) )\n",
    "     \n",
    "    # Inner trinaglular matrix pairwise calculate metrics of local_exps\n",
    "    for i in range(n):\n",
    "        \n",
    "        # First predictor of pairwise comparison\n",
    "        f1_e = local_exps[i]\n",
    "        \n",
    "        for j in range(i+1,n):\n",
    "            \n",
    "            # Second predictor of pairwise comparison\n",
    "            f2_e = local_exps[j]\n",
    "        \n",
    "            # Calculate all requested metrics\n",
    "            for m in range(metric_n):\n",
    "                \n",
    "                # Cosine Similarity\n",
    "                if   ( metrics[m] == \"c_sim\" ):\n",
    "                    metric = 1 - cosine(f1_e, f2_e)\n",
    "                \n",
    "                # Euclidean Distance\n",
    "                elif ( metrics[m] == \"e_dis\" ):\n",
    "                    metric = np.linalg.norm(f1_e-f2_e)\n",
    "                \n",
    "                # Pearson Correlation\n",
    "                elif ( metrics[m] == \"p_cor\" ):\n",
    "                    metric = pearsonr(f1_e,f2_e)[0]\n",
    "                    \n",
    "                elif ( metrics[m] == \"k_tau\" ):\n",
    "                    metric = kendalltau(f1_e,f2_e)[0]\n",
    "                    \n",
    "                results[m] += coef * metric\n",
    "                    \n",
    "    return results"
   ]
  },
  {
   "cell_type": "code",
   "execution_count": 12,
   "id": "03a45a17",
   "metadata": {
    "ExecuteTime": {
     "end_time": "2022-03-19T12:59:37.889210Z",
     "start_time": "2022-03-19T12:59:37.876235Z"
    }
   },
   "outputs": [],
   "source": [
    "# Give an average underspceficiation index for a set of explanations\n",
    "def set_underspecification_index_naive(exps,metrics):\n",
    "    \"\"\"\n",
    "    Naive implementation to calculate the underspecifcation index\n",
    "    for a given set of data instances.\n",
    "\n",
    "            Parameters:\n",
    "                exps - np.ndarray (3d-array),\n",
    "                shape(x_tst length,model_count,# of features):\n",
    "                    Array of explanations for a set of test instances,\n",
    "                    for a number of predictors.\n",
    "                metrics - list:\n",
    "                    List of metrics to be calculated.\n",
    "\n",
    "            Returns:\n",
    "                set_i - np.ndarray (1d-array):\n",
    "                    The set underspecification indexes using \n",
    "                    all metrics in metrics.\n",
    "                local_is - np.ndarray (2d-array):\n",
    "                    The local underspecification index for each \n",
    "                    metric in metrics, for each data instnace in\n",
    "                    exps.\n",
    "    \"\"\"\n",
    "    \n",
    "    \n",
    "    pred_n = len(exps)\n",
    "    local_is = np.empty((pred_n),dtype=object)\n",
    "    \n",
    "    for i in range(pred_n):\n",
    "        \n",
    "        # Verbose printing\n",
    "        if (i % 10 == 0):\n",
    "            print(f\"Calculating index {i}/{pred_n}\")\n",
    "        \n",
    "        local_is[i] = calc_local_underspec_index_naive(exps[i],metrics)\n",
    "    \n",
    "    return local_is"
   ]
  },
  {
   "cell_type": "markdown",
   "id": "947c359a",
   "metadata": {},
   "source": [
    "## Naive Implementation Timing"
   ]
  },
  {
   "cell_type": "code",
   "execution_count": 17,
   "id": "3e8d8185",
   "metadata": {
    "ExecuteTime": {
     "end_time": "2022-03-19T13:07:50.248919Z",
     "start_time": "2022-03-19T13:03:34.804911Z"
    }
   },
   "outputs": [
    {
     "name": "stdout",
     "output_type": "stream",
     "text": [
      "Calculating index 0/100\n",
      "Calculating index 10/100\n",
      "Calculating index 20/100\n",
      "Calculating index 30/100\n",
      "Calculating index 40/100\n",
      "Calculating index 50/100\n",
      "Calculating index 60/100\n",
      "Calculating index 70/100\n",
      "Calculating index 80/100\n",
      "Calculating index 90/100\n",
      "255.4291273\n"
     ]
    },
    {
     "data": {
      "text/plain": [
       "array([0.12043251, 0.77302224, 0.72971872, 0.53260519])"
      ]
     },
     "execution_count": 17,
     "metadata": {},
     "output_type": "execute_result"
    }
   ],
   "source": [
    "# Subset example\n",
    "s_x_tst = x_tst.to_numpy()[:100]\n",
    "s_y_tst = y_tst.to_numpy()[:100]\n",
    "\n",
    "s_x_trn = x_trn.to_numpy()\n",
    "s_y_trn = y_trn.to_numpy()\n",
    "\n",
    "metrics = [\"e_dis\",\"c_sim\",\"p_cor\",\"k_tau\"]\n",
    "\n",
    "# Time how long the whole operation takes\n",
    "start = timer()\n",
    "\n",
    "# Generate Rashomon set where all predictors f in R(theta), acc(f) >= theta\n",
    "subset_rashomon = gen_rashomon_naive(s_x_trn,s_y_trn,\n",
    "                                     s_x_tst,s_y_tst,\n",
    "                                     0.7)\n",
    "\n",
    "# Compute the explanations for all f in subset_rashomon, for each data instance x in s_exps\n",
    "subset_exps     = gen_exp_matrix_naive(s_x_tst,\n",
    "                                       subset_rashomon)\n",
    "\n",
    "# Calculate the underspecification index for all data instance x in s_exps\n",
    "local_is = set_underspecification_index_naive(subset_exps,\n",
    "                                                     metrics)\n",
    "\n",
    "end = timer()\n",
    "print(end - start)\n",
    "\n",
    "np.mean(local_is,axis=0)"
   ]
  },
  {
   "cell_type": "markdown",
   "id": "fb92626a",
   "metadata": {},
   "source": [
    "# Optimisation"
   ]
  },
  {
   "cell_type": "markdown",
   "id": "1ff0dcc5",
   "metadata": {},
   "source": [
    "## Kendall Tau Implementation"
   ]
  },
  {
   "cell_type": "code",
   "execution_count": 18,
   "id": "95f6cd04",
   "metadata": {
    "ExecuteTime": {
     "end_time": "2022-03-19T13:07:50.264911Z",
     "start_time": "2022-03-19T13:07:50.250903Z"
    }
   },
   "outputs": [],
   "source": [
    "@njit(fastmath=True)\n",
    "def kendalltau_numba_naive(a,b):\n",
    "    \"\"\"\n",
    "    Numba optimised o(n^2) kendall correlation coefficent \n",
    "    (tau-a) calculation implementation\n",
    "\n",
    "            Parameters:\n",
    "                 a,b - np.ndarray (1d.array):\n",
    "                     Input arrays which will have their kendall\n",
    "                     rank correlation calculated\n",
    "\n",
    "            Returns:\n",
    "                tau - float:\n",
    "                    The Kendall correlation coefficent\n",
    "    \"\"\"\n",
    "    \n",
    "    a = np.argsort(a)\n",
    "    b = np.argsort(b)\n",
    "    \n",
    "    n = len(a)\n",
    "    \n",
    "    # Calculate symettric difference\n",
    "    sym_dis = 0\n",
    "    \n",
    "    for i in range(1,n):\n",
    "        for j in range(0,i):\n",
    "            sym_dis += np.sign(a[i] - a[j]) * np.sign(b[i] - b[j])\n",
    "            \n",
    "    tau = (2 * sym_dis) / (n*(n-1))   \n",
    "        \n",
    "    return tau"
   ]
  },
  {
   "cell_type": "code",
   "execution_count": 23,
   "id": "d5e70ef9",
   "metadata": {
    "ExecuteTime": {
     "end_time": "2022-03-19T13:43:52.162316Z",
     "start_time": "2022-03-19T13:43:52.155341Z"
    }
   },
   "outputs": [
    {
     "data": {
      "text/plain": [
       "1.0"
      ]
     },
     "execution_count": 23,
     "metadata": {},
     "output_type": "execute_result"
    }
   ],
   "source": [
    "a = np.array([1,2,3])\n",
    "\n",
    "kendalltau_numba_naive(a,a)"
   ]
  },
  {
   "cell_type": "markdown",
   "id": "3509d63e",
   "metadata": {},
   "source": [
    "### Graph Creation"
   ]
  },
  {
   "cell_type": "code",
   "execution_count": 24,
   "id": "9d36e0ff",
   "metadata": {
    "ExecuteTime": {
     "end_time": "2022-03-19T13:43:54.133862Z",
     "start_time": "2022-03-19T13:43:54.113891Z"
    }
   },
   "outputs": [],
   "source": [
    "# Quick method to compare runtime of numba o(n^2) \n",
    "# to scipy is o(nlog) kendall tau implementations\n",
    "def kendall_compare(iterations,list_length):\n",
    "    \n",
    "    a = np.random.rand(list_length)\n",
    "    b = np.random.rand(list_length)\n",
    "    \n",
    "    start = timer()\n",
    "    for i in range(iterations):\n",
    "        kendalltau_numba_naive(a,b)\n",
    "    end = timer()\n",
    "    naive_t = end - start\n",
    "\n",
    "    start = timer()\n",
    "    for i in range(iterations):\n",
    "        kendalltau(a.argsort(),b.argsort())\n",
    "    end = timer()\n",
    "    scipy_t = end - start\n",
    "    \n",
    "    return naive_t,scipy_t"
   ]
  },
  {
   "cell_type": "code",
   "execution_count": 72,
   "id": "3d07ab8c",
   "metadata": {
    "ExecuteTime": {
     "end_time": "2022-03-19T15:22:28.468157Z",
     "start_time": "2022-03-19T14:46:53.920824Z"
    }
   },
   "outputs": [],
   "source": [
    "list_lengths = np.concatenate(\n",
    "    [np.arange(10,510,step=10),\n",
    "     np.arange(1000,10500,step=500)]\n",
    ")\n",
    "\n",
    "iterations = 10000\n",
    "\n",
    "naive_times,scipy_times = [],[]\n",
    "\n",
    "for length in list_lengths:\n",
    "    n,s = kendall_compare(iterations,length)\n",
    "    naive_times += [n]\n",
    "    scipy_times += [s]"
   ]
  },
  {
   "cell_type": "code",
   "execution_count": 83,
   "id": "0c375c81",
   "metadata": {
    "ExecuteTime": {
     "end_time": "2022-03-19T15:28:15.188635Z",
     "start_time": "2022-03-19T15:28:11.765546Z"
    }
   },
   "outputs": [
    {
     "data": {
      "text/html": [
       "<div>\n",
       "<style scoped>\n",
       "    .dataframe tbody tr th:only-of-type {\n",
       "        vertical-align: middle;\n",
       "    }\n",
       "\n",
       "    .dataframe tbody tr th {\n",
       "        vertical-align: top;\n",
       "    }\n",
       "\n",
       "    .dataframe thead th {\n",
       "        text-align: right;\n",
       "    }\n",
       "</style>\n",
       "<table border=\"1\" class=\"dataframe\">\n",
       "  <thead>\n",
       "    <tr style=\"text-align: right;\">\n",
       "      <th></th>\n",
       "      <th>Method</th>\n",
       "      <th>Time</th>\n",
       "      <th>Length</th>\n",
       "    </tr>\n",
       "  </thead>\n",
       "  <tbody>\n",
       "    <tr>\n",
       "      <th>0</th>\n",
       "      <td>naive</td>\n",
       "      <td>0.021183</td>\n",
       "      <td>10</td>\n",
       "    </tr>\n",
       "    <tr>\n",
       "      <th>1</th>\n",
       "      <td>naive</td>\n",
       "      <td>0.025686</td>\n",
       "      <td>20</td>\n",
       "    </tr>\n",
       "    <tr>\n",
       "      <th>2</th>\n",
       "      <td>naive</td>\n",
       "      <td>0.031423</td>\n",
       "      <td>30</td>\n",
       "    </tr>\n",
       "    <tr>\n",
       "      <th>3</th>\n",
       "      <td>naive</td>\n",
       "      <td>0.032620</td>\n",
       "      <td>40</td>\n",
       "    </tr>\n",
       "    <tr>\n",
       "      <th>4</th>\n",
       "      <td>naive</td>\n",
       "      <td>0.039078</td>\n",
       "      <td>50</td>\n",
       "    </tr>\n",
       "    <tr>\n",
       "      <th>...</th>\n",
       "      <td>...</td>\n",
       "      <td>...</td>\n",
       "      <td>...</td>\n",
       "    </tr>\n",
       "    <tr>\n",
       "      <th>133</th>\n",
       "      <td>SciPy</td>\n",
       "      <td>27.669746</td>\n",
       "      <td>8000</td>\n",
       "    </tr>\n",
       "    <tr>\n",
       "      <th>134</th>\n",
       "      <td>SciPy</td>\n",
       "      <td>28.629952</td>\n",
       "      <td>8500</td>\n",
       "    </tr>\n",
       "    <tr>\n",
       "      <th>135</th>\n",
       "      <td>SciPy</td>\n",
       "      <td>30.514546</td>\n",
       "      <td>9000</td>\n",
       "    </tr>\n",
       "    <tr>\n",
       "      <th>136</th>\n",
       "      <td>SciPy</td>\n",
       "      <td>32.008701</td>\n",
       "      <td>9500</td>\n",
       "    </tr>\n",
       "    <tr>\n",
       "      <th>137</th>\n",
       "      <td>SciPy</td>\n",
       "      <td>34.462773</td>\n",
       "      <td>10000</td>\n",
       "    </tr>\n",
       "  </tbody>\n",
       "</table>\n",
       "<p>138 rows × 3 columns</p>\n",
       "</div>"
      ],
      "text/plain": [
       "    Method       Time  Length\n",
       "0    naive   0.021183      10\n",
       "1    naive   0.025686      20\n",
       "2    naive   0.031423      30\n",
       "3    naive   0.032620      40\n",
       "4    naive   0.039078      50\n",
       "..     ...        ...     ...\n",
       "133  SciPy  27.669746    8000\n",
       "134  SciPy  28.629952    8500\n",
       "135  SciPy  30.514546    9000\n",
       "136  SciPy  32.008701    9500\n",
       "137  SciPy  34.462773   10000\n",
       "\n",
       "[138 rows x 3 columns]"
      ]
     },
     "execution_count": 83,
     "metadata": {},
     "output_type": "execute_result"
    }
   ],
   "source": [
    "# First run compiles, so we do the first comparison\n",
    "n_10, s_10 = kendall_compare(10000,10)\n",
    "naive_times[0] = n_10\n",
    "scipy_times[0] = s_10\n",
    "\n",
    "# Create dataframe for graph\n",
    "n_t = [\"naive\" for i in range(len(list_lengths))]\n",
    "s_t = [\"SciPy\" for i in range(len(list_lengths))]\n",
    "\n",
    "methods = n_t + s_t\n",
    "times   = naive_times + scipy_times\n",
    "lenghts = np.concatenate([list_lengths,list_lengths])\n",
    "\n",
    "df = pd.DataFrame({\"Method\":methods,\"Time\":times,\"Length\":lenghts})\n",
    "df"
   ]
  },
  {
   "cell_type": "code",
   "execution_count": 84,
   "id": "47828ef3",
   "metadata": {
    "ExecuteTime": {
     "end_time": "2022-03-19T15:28:18.275263Z",
     "start_time": "2022-03-19T15:28:18.246306Z"
    }
   },
   "outputs": [
    {
     "data": {
      "text/html": [
       "\n",
       "<div id=\"altair-viz-4a176b3490694f97ac8f9c4e00838a89\"></div>\n",
       "<script type=\"text/javascript\">\n",
       "  (function(spec, embedOpt){\n",
       "    let outputDiv = document.currentScript.previousElementSibling;\n",
       "    if (outputDiv.id !== \"altair-viz-4a176b3490694f97ac8f9c4e00838a89\") {\n",
       "      outputDiv = document.getElementById(\"altair-viz-4a176b3490694f97ac8f9c4e00838a89\");\n",
       "    }\n",
       "    const paths = {\n",
       "      \"vega\": \"https://cdn.jsdelivr.net/npm//vega@5?noext\",\n",
       "      \"vega-lib\": \"https://cdn.jsdelivr.net/npm//vega-lib?noext\",\n",
       "      \"vega-lite\": \"https://cdn.jsdelivr.net/npm//vega-lite@4.8.1?noext\",\n",
       "      \"vega-embed\": \"https://cdn.jsdelivr.net/npm//vega-embed@6?noext\",\n",
       "    };\n",
       "\n",
       "    function loadScript(lib) {\n",
       "      return new Promise(function(resolve, reject) {\n",
       "        var s = document.createElement('script');\n",
       "        s.src = paths[lib];\n",
       "        s.async = true;\n",
       "        s.onload = () => resolve(paths[lib]);\n",
       "        s.onerror = () => reject(`Error loading script: ${paths[lib]}`);\n",
       "        document.getElementsByTagName(\"head\")[0].appendChild(s);\n",
       "      });\n",
       "    }\n",
       "\n",
       "    function showError(err) {\n",
       "      outputDiv.innerHTML = `<div class=\"error\" style=\"color:red;\">${err}</div>`;\n",
       "      throw err;\n",
       "    }\n",
       "\n",
       "    function displayChart(vegaEmbed) {\n",
       "      vegaEmbed(outputDiv, spec, embedOpt)\n",
       "        .catch(err => showError(`Javascript Error: ${err.message}<br>This usually means there's a typo in your chart specification. See the javascript console for the full traceback.`));\n",
       "    }\n",
       "\n",
       "    if(typeof define === \"function\" && define.amd) {\n",
       "      requirejs.config({paths});\n",
       "      require([\"vega-embed\"], displayChart, err => showError(`Error loading script: ${err.message}`));\n",
       "    } else if (typeof vegaEmbed === \"function\") {\n",
       "      displayChart(vegaEmbed);\n",
       "    } else {\n",
       "      loadScript(\"vega\")\n",
       "        .then(() => loadScript(\"vega-lite\"))\n",
       "        .then(() => loadScript(\"vega-embed\"))\n",
       "        .catch(showError)\n",
       "        .then(() => displayChart(vegaEmbed));\n",
       "    }\n",
       "  })({\"config\": {\"view\": {\"continuousWidth\": 400, \"continuousHeight\": 300}, \"axis\": {\"labelFontSize\": 20, \"titleFontSize\": 25}, \"legend\": {\"fillColor\": \"#EEEEEE\", \"labelFontSize\": 20, \"orient\": \"bottom-right\", \"padding\": 10, \"strokeColor\": \"gray\", \"titleFontSize\": 25}}, \"data\": {\"name\": \"data-28572730e14557448b2adbf1e00ee115\"}, \"mark\": \"line\", \"encoding\": {\"color\": {\"type\": \"nominal\", \"field\": \"Method\"}, \"x\": {\"type\": \"quantitative\", \"axis\": {\"title\": \"Input Length\"}, \"field\": \"Length\", \"scale\": {\"type\": \"log\"}}, \"y\": {\"type\": \"quantitative\", \"axis\": {\"title\": \"Runtime (s)\"}, \"field\": \"Time\", \"scale\": {\"type\": \"log\"}}}, \"height\": 1080, \"width\": 1920, \"$schema\": \"https://vega.github.io/schema/vega-lite/v4.8.1.json\", \"datasets\": {\"data-28572730e14557448b2adbf1e00ee115\": [{\"Method\": \"naive\", \"Time\": 0.021183400000154506, \"Length\": 10}, {\"Method\": \"naive\", \"Time\": 0.025686200000563986, \"Length\": 20}, {\"Method\": \"naive\", \"Time\": 0.03142310000021098, \"Length\": 30}, {\"Method\": \"naive\", \"Time\": 0.0326201999996556, \"Length\": 40}, {\"Method\": \"naive\", \"Time\": 0.039078300000255695, \"Length\": 50}, {\"Method\": \"naive\", \"Time\": 0.048901300000579795, \"Length\": 60}, {\"Method\": \"naive\", \"Time\": 0.058358500000395, \"Length\": 70}, {\"Method\": \"naive\", \"Time\": 0.05721519999951852, \"Length\": 80}, {\"Method\": \"naive\", \"Time\": 0.0677082000001974, \"Length\": 90}, {\"Method\": \"naive\", \"Time\": 0.08958919999986392, \"Length\": 100}, {\"Method\": \"naive\", \"Time\": 0.08248209999965184, \"Length\": 110}, {\"Method\": \"naive\", \"Time\": 0.08848269999998593, \"Length\": 120}, {\"Method\": \"naive\", \"Time\": 0.09761759999946662, \"Length\": 130}, {\"Method\": \"naive\", \"Time\": 0.10503400000015972, \"Length\": 140}, {\"Method\": \"naive\", \"Time\": 0.11770119999982853, \"Length\": 150}, {\"Method\": \"naive\", \"Time\": 0.16821509999954287, \"Length\": 160}, {\"Method\": \"naive\", \"Time\": 0.13412570000036794, \"Length\": 170}, {\"Method\": \"naive\", \"Time\": 0.14391609999984212, \"Length\": 180}, {\"Method\": \"naive\", \"Time\": 0.15776139999979932, \"Length\": 190}, {\"Method\": \"naive\", \"Time\": 0.16608569999971223, \"Length\": 200}, {\"Method\": \"naive\", \"Time\": 0.31632730000001175, \"Length\": 210}, {\"Method\": \"naive\", \"Time\": 0.1953737000003457, \"Length\": 220}, {\"Method\": \"naive\", \"Time\": 0.19385370000054536, \"Length\": 230}, {\"Method\": \"naive\", \"Time\": 0.23647280000022874, \"Length\": 240}, {\"Method\": \"naive\", \"Time\": 0.23468529999991006, \"Length\": 250}, {\"Method\": \"naive\", \"Time\": 0.24192690000018047, \"Length\": 260}, {\"Method\": \"naive\", \"Time\": 0.27128170000014507, \"Length\": 270}, {\"Method\": \"naive\", \"Time\": 0.2812730999994528, \"Length\": 280}, {\"Method\": \"naive\", \"Time\": 0.31245269999999437, \"Length\": 290}, {\"Method\": \"naive\", \"Time\": 0.30477330000030634, \"Length\": 300}, {\"Method\": \"naive\", \"Time\": 0.32533950000015466, \"Length\": 310}, {\"Method\": \"naive\", \"Time\": 0.3385624000002281, \"Length\": 320}, {\"Method\": \"naive\", \"Time\": 0.4705751000001328, \"Length\": 330}, {\"Method\": \"naive\", \"Time\": 0.3921346999995876, \"Length\": 340}, {\"Method\": \"naive\", \"Time\": 0.4342940999995335, \"Length\": 350}, {\"Method\": \"naive\", \"Time\": 0.4203051000004052, \"Length\": 360}, {\"Method\": \"naive\", \"Time\": 0.4318057000000408, \"Length\": 370}, {\"Method\": \"naive\", \"Time\": 0.47611330000017915, \"Length\": 380}, {\"Method\": \"naive\", \"Time\": 0.536631099999795, \"Length\": 390}, {\"Method\": \"naive\", \"Time\": 0.5012126000001444, \"Length\": 400}, {\"Method\": \"naive\", \"Time\": 0.5705162000003838, \"Length\": 410}, {\"Method\": \"naive\", \"Time\": 0.5624016000001575, \"Length\": 420}, {\"Method\": \"naive\", \"Time\": 0.5896579999998721, \"Length\": 430}, {\"Method\": \"naive\", \"Time\": 0.8810764999998355, \"Length\": 440}, {\"Method\": \"naive\", \"Time\": 0.7174923000002309, \"Length\": 450}, {\"Method\": \"naive\", \"Time\": 0.7356964999999036, \"Length\": 460}, {\"Method\": \"naive\", \"Time\": 0.7149012999998376, \"Length\": 470}, {\"Method\": \"naive\", \"Time\": 0.7474578999999721, \"Length\": 480}, {\"Method\": \"naive\", \"Time\": 0.758370499999728, \"Length\": 490}, {\"Method\": \"naive\", \"Time\": 0.8358023000000685, \"Length\": 500}, {\"Method\": \"naive\", \"Time\": 2.922023799999806, \"Length\": 1000}, {\"Method\": \"naive\", \"Time\": 5.817463499999576, \"Length\": 1500}, {\"Method\": \"naive\", \"Time\": 9.400538699999743, \"Length\": 2000}, {\"Method\": \"naive\", \"Time\": 14.264264800000092, \"Length\": 2500}, {\"Method\": \"naive\", \"Time\": 20.276610199999595, \"Length\": 3000}, {\"Method\": \"naive\", \"Time\": 28.425391199999467, \"Length\": 3500}, {\"Method\": \"naive\", \"Time\": 36.921370500000194, \"Length\": 4000}, {\"Method\": \"naive\", \"Time\": 43.529074500000206, \"Length\": 4500}, {\"Method\": \"naive\", \"Time\": 55.79859789999955, \"Length\": 5000}, {\"Method\": \"naive\", \"Time\": 67.2438729000005, \"Length\": 5500}, {\"Method\": \"naive\", \"Time\": 74.01279949999935, \"Length\": 6000}, {\"Method\": \"naive\", \"Time\": 92.82269319999978, \"Length\": 6500}, {\"Method\": \"naive\", \"Time\": 99.22576769999978, \"Length\": 7000}, {\"Method\": \"naive\", \"Time\": 126.26632340000015, \"Length\": 7500}, {\"Method\": \"naive\", \"Time\": 133.5533115999997, \"Length\": 8000}, {\"Method\": \"naive\", \"Time\": 165.40804210000078, \"Length\": 8500}, {\"Method\": \"naive\", \"Time\": 184.04672779999964, \"Length\": 9000}, {\"Method\": \"naive\", \"Time\": 196.46646789999977, \"Length\": 9500}, {\"Method\": \"naive\", \"Time\": 225.04006789999949, \"Length\": 10000}, {\"Method\": \"SciPy\", \"Time\": 3.3772407000014937, \"Length\": 10}, {\"Method\": \"SciPy\", \"Time\": 4.209549899999729, \"Length\": 20}, {\"Method\": \"SciPy\", \"Time\": 5.138974200000121, \"Length\": 30}, {\"Method\": \"SciPy\", \"Time\": 2.531958399999894, \"Length\": 40}, {\"Method\": \"SciPy\", \"Time\": 2.593489099999715, \"Length\": 50}, {\"Method\": \"SciPy\", \"Time\": 2.800682300000517, \"Length\": 60}, {\"Method\": \"SciPy\", \"Time\": 2.9069970000000467, \"Length\": 70}, {\"Method\": \"SciPy\", \"Time\": 2.6068180999991455, \"Length\": 80}, {\"Method\": \"SciPy\", \"Time\": 3.0496014999998806, \"Length\": 90}, {\"Method\": \"SciPy\", \"Time\": 3.6407978999995976, \"Length\": 100}, {\"Method\": \"SciPy\", \"Time\": 2.903975199999877, \"Length\": 110}, {\"Method\": \"SciPy\", \"Time\": 2.8023823000003176, \"Length\": 120}, {\"Method\": \"SciPy\", \"Time\": 2.906165299999884, \"Length\": 130}, {\"Method\": \"SciPy\", \"Time\": 3.219415399999889, \"Length\": 140}, {\"Method\": \"SciPy\", \"Time\": 3.3104170999995404, \"Length\": 150}, {\"Method\": \"SciPy\", \"Time\": 3.160965199999737, \"Length\": 160}, {\"Method\": \"SciPy\", \"Time\": 3.23818349999965, \"Length\": 170}, {\"Method\": \"SciPy\", \"Time\": 3.344089299999723, \"Length\": 180}, {\"Method\": \"SciPy\", \"Time\": 3.533375199999682, \"Length\": 190}, {\"Method\": \"SciPy\", \"Time\": 3.3849664999997913, \"Length\": 200}, {\"Method\": \"SciPy\", \"Time\": 3.291804499999671, \"Length\": 210}, {\"Method\": \"SciPy\", \"Time\": 3.0242686999999933, \"Length\": 220}, {\"Method\": \"SciPy\", \"Time\": 3.463104299999941, \"Length\": 230}, {\"Method\": \"SciPy\", \"Time\": 3.422005899999931, \"Length\": 240}, {\"Method\": \"SciPy\", \"Time\": 3.2886177999998836, \"Length\": 250}, {\"Method\": \"SciPy\", \"Time\": 3.113226499999655, \"Length\": 260}, {\"Method\": \"SciPy\", \"Time\": 3.1171690000001036, \"Length\": 270}, {\"Method\": \"SciPy\", \"Time\": 3.7121279000002687, \"Length\": 280}, {\"Method\": \"SciPy\", \"Time\": 3.4015079000000696, \"Length\": 290}, {\"Method\": \"SciPy\", \"Time\": 3.3933444000003874, \"Length\": 300}, {\"Method\": \"SciPy\", \"Time\": 3.2817488999999114, \"Length\": 310}, {\"Method\": \"SciPy\", \"Time\": 3.6812182000003304, \"Length\": 320}, {\"Method\": \"SciPy\", \"Time\": 3.429055900000094, \"Length\": 330}, {\"Method\": \"SciPy\", \"Time\": 3.448551600000428, \"Length\": 340}, {\"Method\": \"SciPy\", \"Time\": 3.3476327000007586, \"Length\": 350}, {\"Method\": \"SciPy\", \"Time\": 3.517962599999919, \"Length\": 360}, {\"Method\": \"SciPy\", \"Time\": 3.458921100000225, \"Length\": 370}, {\"Method\": \"SciPy\", \"Time\": 3.4801467000006596, \"Length\": 380}, {\"Method\": \"SciPy\", \"Time\": 3.482572199999595, \"Length\": 390}, {\"Method\": \"SciPy\", \"Time\": 3.5944980999993277, \"Length\": 400}, {\"Method\": \"SciPy\", \"Time\": 3.65475509999942, \"Length\": 410}, {\"Method\": \"SciPy\", \"Time\": 3.4574100999998336, \"Length\": 420}, {\"Method\": \"SciPy\", \"Time\": 3.9855036000008113, \"Length\": 430}, {\"Method\": \"SciPy\", \"Time\": 3.8205900000002657, \"Length\": 440}, {\"Method\": \"SciPy\", \"Time\": 3.7710477999999057, \"Length\": 450}, {\"Method\": \"SciPy\", \"Time\": 3.8885541999998168, \"Length\": 460}, {\"Method\": \"SciPy\", \"Time\": 4.081925200000114, \"Length\": 470}, {\"Method\": \"SciPy\", \"Time\": 3.6950714000004155, \"Length\": 480}, {\"Method\": \"SciPy\", \"Time\": 3.5759190000007948, \"Length\": 490}, {\"Method\": \"SciPy\", \"Time\": 3.9661495000000286, \"Length\": 500}, {\"Method\": \"SciPy\", \"Time\": 5.01433679999991, \"Length\": 1000}, {\"Method\": \"SciPy\", \"Time\": 6.150750699999662, \"Length\": 1500}, {\"Method\": \"SciPy\", \"Time\": 7.554567099999986, \"Length\": 2000}, {\"Method\": \"SciPy\", \"Time\": 9.075813700000253, \"Length\": 2500}, {\"Method\": \"SciPy\", \"Time\": 11.271810799999912, \"Length\": 3000}, {\"Method\": \"SciPy\", \"Time\": 13.117827899999611, \"Length\": 3500}, {\"Method\": \"SciPy\", \"Time\": 14.425753800000166, \"Length\": 4000}, {\"Method\": \"SciPy\", \"Time\": 16.073370799999793, \"Length\": 4500}, {\"Method\": \"SciPy\", \"Time\": 17.720151000000442, \"Length\": 5000}, {\"Method\": \"SciPy\", \"Time\": 19.39353889999984, \"Length\": 5500}, {\"Method\": \"SciPy\", \"Time\": 20.891747300000134, \"Length\": 6000}, {\"Method\": \"SciPy\", \"Time\": 22.189446500000486, \"Length\": 6500}, {\"Method\": \"SciPy\", \"Time\": 24.0252117, \"Length\": 7000}, {\"Method\": \"SciPy\", \"Time\": 25.338526600000478, \"Length\": 7500}, {\"Method\": \"SciPy\", \"Time\": 27.669745500000317, \"Length\": 8000}, {\"Method\": \"SciPy\", \"Time\": 28.629952200000844, \"Length\": 8500}, {\"Method\": \"SciPy\", \"Time\": 30.514546300000802, \"Length\": 9000}, {\"Method\": \"SciPy\", \"Time\": 32.008701499999006, \"Length\": 9500}, {\"Method\": \"SciPy\", \"Time\": 34.46277329999975, \"Length\": 10000}]}}, {\"mode\": \"vega-lite\"});\n",
       "</script>"
      ],
      "text/plain": [
       "alt.Chart(...)"
      ]
     },
     "execution_count": 84,
     "metadata": {},
     "output_type": "execute_result"
    }
   ],
   "source": [
    "import altair as alt\n",
    "\n",
    "alt.Chart(df).mark_line().encode(\n",
    "    x     = alt.X(\"Length:Q\",\n",
    "                  axis=alt.Axis(title=\"Input Length\"),\n",
    "                  scale=alt.Scale(type='log')\n",
    "                 ),\n",
    "    y     = alt.Y(\"Time:Q\",\n",
    "                  axis=alt.Axis(title=\"Runtime (s)\"),\n",
    "                  scale=alt.Scale(type='log')\n",
    "                 ),\n",
    "    color = \"Method\"\n",
    ").properties(\n",
    "    width=1920,\n",
    "    height=1080\n",
    ").configure_axis(\n",
    "    labelFontSize=20,\n",
    "    titleFontSize=25\n",
    ").configure_legend(\n",
    "    padding=10,\n",
    "    strokeColor=\"gray\",\n",
    "    fillColor='#EEEEEE',\n",
    "    orient='bottom-right',\n",
    "    labelFontSize=20,\n",
    "    titleFontSize=25,\n",
    ")"
   ]
  },
  {
   "cell_type": "markdown",
   "id": "cfe16ccb",
   "metadata": {},
   "source": [
    "## Numba NumPy metrics vs SciPy"
   ]
  },
  {
   "cell_type": "code",
   "execution_count": 64,
   "id": "4d5f5ecc",
   "metadata": {
    "ExecuteTime": {
     "end_time": "2022-03-19T14:13:35.259785Z",
     "start_time": "2022-03-19T14:13:35.241789Z"
    }
   },
   "outputs": [],
   "source": [
    "# Metric njit functions\n",
    "@njit(fastmath=True)\n",
    "def p_r(a,b):\n",
    "    np.corrcoef(a,b)[1,0]\n",
    "\n",
    "@njit(fastmath=True)\n",
    "def c_sim(a,b):\n",
    "    np.dot(a, b)/(norm(a)*norm(b))"
   ]
  },
  {
   "cell_type": "code",
   "execution_count": 71,
   "id": "1245f26d",
   "metadata": {
    "ExecuteTime": {
     "end_time": "2022-03-19T14:16:43.575635Z",
     "start_time": "2022-03-19T14:16:42.265508Z"
    }
   },
   "outputs": [
    {
     "name": "stdout",
     "output_type": "stream",
     "text": [
      "Optimised Pearson: 0.15633269999943877\n",
      "SciPy Pearson: 0.6277061999999205\n",
      "\n",
      "Optimised Cosine: 0.15588750000006257\n",
      "SciPy Cosine: 0.3506908999997904\n"
     ]
    }
   ],
   "source": [
    "list_length = 1000\n",
    "iterations  = 10000\n",
    "    \n",
    "a = np.random.rand(list_length)\n",
    "b = np.random.rand(list_length)\n",
    "\n",
    "start = timer()\n",
    "for i in range(iterations):\n",
    "    p_r(a,b)\n",
    "end = timer()\n",
    "print(f\"Optimised Pearson: {end - start}\")\n",
    "\n",
    "start = timer()\n",
    "for i in range(iterations):\n",
    "    pearsonr(a,b)[0]\n",
    "end = timer()\n",
    "n_euc = end - start\n",
    "print(f\"SciPy Pearson: {n_euc}\")\n",
    "\n",
    "print()\n",
    "\n",
    "start = timer()\n",
    "for i in range(iterations):\n",
    "    p_r(a,b)\n",
    "end = timer()\n",
    "print(f\"Optimised Cosine: {end - start}\")\n",
    "\n",
    "start = timer()\n",
    "for i in range(iterations):\n",
    "    1 - cosine(a, b)\n",
    "end = timer()\n",
    "print(f\"SciPy Cosine: {end - start}\")"
   ]
  },
  {
   "cell_type": "markdown",
   "id": "864a8d88",
   "metadata": {},
   "source": [
    "## Explanation Matrix Generation"
   ]
  },
  {
   "cell_type": "code",
   "execution_count": 25,
   "id": "a60ba72b",
   "metadata": {
    "ExecuteTime": {
     "end_time": "2022-03-19T13:45:24.916185Z",
     "start_time": "2022-03-19T13:45:24.906195Z"
    }
   },
   "outputs": [],
   "source": [
    "# Compute shap explanations for each data instance x in x_tst, for model_count predictors f\n",
    "# such that acc(f) >= theta\n",
    "def gen_exp_matrix(x_trn,y_trn,x_tst,y_tst,theta,model_count=100,tree_count=10):\n",
    "    \"\"\"\n",
    "    Generates an explanation matrix of the emprical Rashomon set defined by\n",
    "    the given datasets, theta, model_count and tree_count.\n",
    "\n",
    "            Parameters:\n",
    "                x_trn - np.ndarray (2d-array): \n",
    "                    The numerical training features\n",
    "                    used to train the predictors.\n",
    "                    Each index should be all features \n",
    "                    for a training instance.\n",
    "                y_trn - np.ndarray (2d-array):\n",
    "                    The numerical training prediction\n",
    "                    targets, each index should be the\n",
    "                    prediction target for the features\n",
    "                    at the same index of x_trn.\n",
    "                x_tst - np.ndarray (2d-array):\n",
    "                    Testing equivalent of x_trn.\n",
    "                y_tst - np.ndarray (2d-array):\n",
    "                    Testing equivalent of y_trn.\n",
    "                model_count - int, default 100:\n",
    "                    The number of models to include\n",
    "                    in the Rashomon set. \n",
    "                tree_count - int, default 10:\n",
    "                    The number of trees in each\n",
    "                    random forest in the Rashomon set\n",
    "\n",
    "            Returns:\n",
    "                shap_exps - np.ndarray (3d-array),\n",
    "                shape(model_count,x_tst length,# of features):\n",
    "                    Array of SHAP explanations for each test instance\n",
    "                    in x_tst, for each predictor in the Rashomon set.\n",
    "    \"\"\"\n",
    "    \n",
    "    # Throw an exception if datasets aren't numpy arrays\n",
    "    if not all(isinstance(i, np.ndarray) for i in [x_trn,y_trn,x_tst,y_tst]):\n",
    "        raise TypeError(\"Datasets must be NumPy arrays\")\n",
    "\n",
    "    # Model counter\n",
    "    i = 0\n",
    "    \n",
    "    # Local explanation for each datapoint for each predictor\n",
    "    out_shape = (model_count,len(x_tst),len(x_tst[0]))\n",
    "    shap_exps = np.zeros(out_shape)\n",
    "    \n",
    "    while i < model_count:\n",
    "        \n",
    "        # Train model, calculate accuracy\n",
    "        f = RandomForestClassifier(n_estimators=tree_count)\n",
    "    \n",
    "        f.fit(x_trn,y_trn)\n",
    "        \n",
    "        pred = f.predict(x_tst)\n",
    "        \n",
    "        acc = accuracy_score(pred, y_tst)\n",
    "        \n",
    "        # If f in R(theta)\n",
    "        if acc >= theta:\n",
    "            \n",
    "            # Compute local shap exp for each x in x_tst\n",
    "            shap_exps[i] = np.array(shap.TreeExplainer(f).shap_values(x_tst)[0])\n",
    "            \n",
    "            i += 1\n",
    "            \n",
    "    # Transpose output so that contiguous arrays can be passed to local underspec index\n",
    "    return np.transpose(shap_exps,(1,0,2))"
   ]
  },
  {
   "cell_type": "markdown",
   "id": "f0ff7daa",
   "metadata": {},
   "source": [
    "### Naive vs Optimised"
   ]
  },
  {
   "cell_type": "code",
   "execution_count": 26,
   "id": "ac96b92b",
   "metadata": {
    "ExecuteTime": {
     "end_time": "2022-03-19T13:46:32.169425Z",
     "start_time": "2022-03-19T13:45:36.682562Z"
    }
   },
   "outputs": [
    {
     "name": "stdout",
     "output_type": "stream",
     "text": [
      "33.978633900000204\n",
      "21.495222300000023\n"
     ]
    }
   ],
   "source": [
    "# Time Naive exp_matrix\n",
    "start = timer()\n",
    "\n",
    "rashomon_naive = gen_rashomon_naive(s_x_trn,s_y_trn,\n",
    "                                     s_x_tst,s_y_tst,\n",
    "                                     0.7)\n",
    "\n",
    "exps_naive = gen_exp_matrix_naive(s_x_tst,rashomon_naive)\n",
    "\n",
    "end = timer()\n",
    "print(end - start)\n",
    "\n",
    "# Time updated version\n",
    "start = timer()\n",
    "\n",
    "exps = gen_exp_matrix(s_x_trn,s_y_trn,\n",
    "                      s_x_tst,s_y_tst,\n",
    "                      0.7,model_count=100)\n",
    "\n",
    "end = timer()\n",
    "print(end - start)"
   ]
  },
  {
   "cell_type": "markdown",
   "id": "605f5cc2",
   "metadata": {},
   "source": [
    "## Local Index U<sub>x</sub>"
   ]
  },
  {
   "cell_type": "code",
   "execution_count": 27,
   "id": "5841e5a5",
   "metadata": {
    "ExecuteTime": {
     "end_time": "2022-03-19T13:48:07.340113Z",
     "start_time": "2022-03-19T13:48:07.322136Z"
    }
   },
   "outputs": [],
   "source": [
    "@njit(fastmath=True)\n",
    "def calc_local_underspec_index(local_exps,metrics):\n",
    "    \n",
    "    \"\"\"\n",
    "    Calculates the local underspecification index using selected metrics,\n",
    "    given all the explanations for a particular data instance for all \n",
    "    predictors in a Rashomon set\n",
    "\n",
    "            Parameters:\n",
    "                local_exps - np.ndarray (2d-array):\n",
    "                    List of the local explanations for a given data \n",
    "                    instance of all predictors in a rashomon set.\n",
    "                metrics - numba.typed.List:\n",
    "                    List of metrics to be calculated.\n",
    "\n",
    "            Returns:\n",
    "                results - list:\n",
    "                    The underspecification indexes using all metrics in\n",
    "                    metrics.\n",
    "    \"\"\"\n",
    "    \n",
    "    # Output array, index for each metrics local index\n",
    "    metric_n = len(metrics)\n",
    "    results  = np.zeros((metric_n))\n",
    "    \n",
    "    n = len(local_exps)\n",
    "    # Inner trianglular matrix coefficent for mean\n",
    "    coef = ( 2 / (n*(n-1)) )\n",
    "     \n",
    "    # Inner trinaglular matrix pairwise calculate metrics of local_exps\n",
    "    for i in range(n):\n",
    "        \n",
    "        # First predictor of pairwise comparison\n",
    "        f1_e = local_exps[i]\n",
    "        \n",
    "        for j in range(i+1,n):\n",
    "            \n",
    "            # Second predictor of pairwise comparison\n",
    "            f2_e = local_exps[j]\n",
    "        \n",
    "            # Calculate all requested metrics\n",
    "            for m in range(metric_n):\n",
    "                \n",
    "                # Cosine Similarity\n",
    "                if   ( metrics[m] == \"c_sim\" ):\n",
    "                    metric = np.dot(f1_e, f2_e)/(norm(f1_e)*norm(f2_e))\n",
    "                \n",
    "                # Euclidean Distance\n",
    "                if ( metrics[m] == \"e_dis\" ):\n",
    "                    metric = norm(f1_e-f2_e)\n",
    "                \n",
    "                # Pearson Correlation\n",
    "                elif ( metrics[m] == \"p_cor\" ):\n",
    "                    metric = np.corrcoef(f1_e,f2_e)[1,0]\n",
    "                \n",
    "                # Kendall Correlation\n",
    "                elif ( metrics[m] == \"k_tau\" ):\n",
    "                    metric = kendalltau_numba_naive(f1_e,f2_e)\n",
    "                \n",
    "                results[m] += coef * metric\n",
    "                    \n",
    "    return results"
   ]
  },
  {
   "cell_type": "markdown",
   "id": "7d9ce6f1",
   "metadata": {},
   "source": [
    "### Naive vs Optimised"
   ]
  },
  {
   "cell_type": "code",
   "execution_count": 91,
   "id": "d40054bf",
   "metadata": {
    "ExecuteTime": {
     "end_time": "2022-03-19T16:09:19.905909Z",
     "start_time": "2022-03-19T16:09:17.427343Z"
    }
   },
   "outputs": [
    {
     "name": "stdout",
     "output_type": "stream",
     "text": [
      "2.4405737000015506\n",
      "0.02964109999993525\n"
     ]
    }
   ],
   "source": [
    "x_ind = 1\n",
    "\n",
    "local_exps = exps[x_ind]\n",
    "\n",
    "metrics = typed.List([\"e_dis\",\"c_sim\",\"p_cor\",\"k_tau\"])\n",
    "\n",
    "start = timer()\n",
    "calc_local_underspec_index_naive(local_exps,metrics)\n",
    "end = timer()\n",
    "print(end - start)\n",
    "\n",
    "start = timer()\n",
    "calc_local_underspec_index(local_exps,metrics)\n",
    "end = timer()\n",
    "print(end - start)"
   ]
  },
  {
   "cell_type": "markdown",
   "id": "f4013a6d",
   "metadata": {},
   "source": [
    "## Set index U"
   ]
  },
  {
   "cell_type": "code",
   "execution_count": 86,
   "id": "fb2c0f2a",
   "metadata": {
    "ExecuteTime": {
     "end_time": "2022-03-19T16:01:26.574836Z",
     "start_time": "2022-03-19T16:01:26.563848Z"
    }
   },
   "outputs": [],
   "source": [
    "# Give an average underspceficiation index for \n",
    "# a set of explanations\n",
    "@njit\n",
    "def set_underspecification_index(exps,metrics):\n",
    "    \n",
    "    pred_n = len(exps)\n",
    "    local_is = np.zeros((pred_n,len(metrics)))\n",
    "    \n",
    "    for i in range(pred_n):\n",
    "        \n",
    "        # Verbose printing\n",
    "        if (i % 10 == 0):\n",
    "            print(\"Calculating index\",i,\"/\",pred_n)\n",
    "        \n",
    "        local_is[i] = calc_local_underspec_index(exps[i],metrics)\n",
    "    \n",
    "    return local_is"
   ]
  },
  {
   "cell_type": "code",
   "execution_count": 87,
   "id": "f52e29e9",
   "metadata": {
    "ExecuteTime": {
     "end_time": "2022-03-19T16:01:26.888791Z",
     "start_time": "2022-03-19T16:01:26.875790Z"
    }
   },
   "outputs": [],
   "source": [
    "# Removed verbose printing as it likely won't be in \n",
    "# order due to parallelisation\n",
    "@njit(parallel=True)\n",
    "def set_underspecification_index_parallel(exps,metrics):\n",
    "    \"\"\"\n",
    "    Calculate the underspecifcation indexes\n",
    "    for a given set of data instances.\n",
    "\n",
    "            Parameters:\n",
    "                exps - np.ndarray (3d-array),\n",
    "                shape(x_tst length,model_count,# of features):\n",
    "                    Array of explanations for a set of test instances,\n",
    "                    for a number of predictors.\n",
    "                metrics - list:\n",
    "                    List of metrics to be calculated.\n",
    "\n",
    "            Returns:\n",
    "                local_is - np.ndarray (2d-array):\n",
    "                    The local underspecification index for each \n",
    "                    metric in metrics, for each data instnace in\n",
    "                    exps.\n",
    "    \"\"\"\n",
    "    pred_n = len(exps)\n",
    "    local_is = np.zeros((pred_n,len(metrics)))\n",
    "    \n",
    "    for i in prange(pred_n):\n",
    "        \n",
    "        local_is[i] = calc_local_underspec_index(exps[i],metrics)\n",
    "    \n",
    "    return local_is"
   ]
  },
  {
   "cell_type": "code",
   "execution_count": 92,
   "id": "650a7887",
   "metadata": {
    "ExecuteTime": {
     "end_time": "2022-03-19T16:13:46.318052Z",
     "start_time": "2022-03-19T16:09:37.700454Z"
    }
   },
   "outputs": [
    {
     "name": "stdout",
     "output_type": "stream",
     "text": [
      "Calculating index 0/100\n",
      "Calculating index 10/100\n",
      "Calculating index 20/100\n",
      "Calculating index 30/100\n",
      "Calculating index 40/100\n",
      "Calculating index 50/100\n",
      "Calculating index 60/100\n",
      "Calculating index 70/100\n",
      "Calculating index 80/100\n",
      "Calculating index 90/100\n",
      "243.66168079999989\n",
      "Calculating index 0 / 100\n",
      "Calculating index 10 / 100\n",
      "Calculating index 20 / 100\n",
      "Calculating index 30 / 100\n",
      "Calculating index 40 / 100\n",
      "Calculating index 50 / 100\n",
      "Calculating index 60 / 100\n",
      "Calculating index 70 / 100\n",
      "Calculating index 80 / 100\n",
      "Calculating index 90 / 100\n",
      "2.8854897000001074\n",
      "2.0547052999991138\n"
     ]
    }
   ],
   "source": [
    "start = timer()\n",
    "set_underspecification_index_naive(exps,metrics)\n",
    "end = timer()\n",
    "print(end - start)\n",
    "\n",
    "start = timer()\n",
    "set_underspecification_index(exps,metrics)\n",
    "end = timer()\n",
    "print(end - start) \n",
    "\n",
    "start = timer()\n",
    "set_underspecification_index_parallel(exps,metrics)\n",
    "end = timer()\n",
    "print(end - start)"
   ]
  },
  {
   "cell_type": "code",
   "execution_count": null,
   "id": "aff0f70b",
   "metadata": {},
   "outputs": [],
   "source": []
  }
 ],
 "metadata": {
  "kernelspec": {
   "display_name": "Python 3",
   "language": "python",
   "name": "python3"
  },
  "language_info": {
   "codemirror_mode": {
    "name": "ipython",
    "version": 3
   },
   "file_extension": ".py",
   "mimetype": "text/x-python",
   "name": "python",
   "nbconvert_exporter": "python",
   "pygments_lexer": "ipython3",
   "version": "3.8.3"
  },
  "latex_envs": {
   "LaTeX_envs_menu_present": true,
   "autoclose": false,
   "autocomplete": true,
   "bibliofile": "biblio.bib",
   "cite_by": "apalike",
   "current_citInitial": 1,
   "eqLabelWithNumbers": true,
   "eqNumInitial": 1,
   "hotkeys": {
    "equation": "Ctrl-E",
    "itemize": "Ctrl-I"
   },
   "labels_anchors": false,
   "latex_user_defs": false,
   "report_style_numbering": false,
   "user_envs_cfg": false
  },
  "toc": {
   "base_numbering": 1,
   "nav_menu": {},
   "number_sections": true,
   "sideBar": true,
   "skip_h1_title": false,
   "title_cell": "Table of Contents",
   "title_sidebar": "Contents",
   "toc_cell": false,
   "toc_position": {},
   "toc_section_display": true,
   "toc_window_display": false
  }
 },
 "nbformat": 4,
 "nbformat_minor": 5
}
